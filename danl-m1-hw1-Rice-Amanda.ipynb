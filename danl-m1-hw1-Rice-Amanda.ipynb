{
  "nbformat": 4,
  "nbformat_minor": 0,
  "metadata": {
    "colab": {
      "provenance": [],
      "authorship_tag": "ABX9TyOK7hy+7ssMUs+Ap6FExA4u",
      "include_colab_link": true
    },
    "kernelspec": {
      "name": "python3",
      "display_name": "Python 3"
    },
    "language_info": {
      "name": "python"
    }
  },
  "cells": [
    {
      "cell_type": "markdown",
      "metadata": {
        "id": "view-in-github",
        "colab_type": "text"
      },
      "source": [
        "<a href=\"https://colab.research.google.com/github/amandarice97/data-analytics/blob/main/danl-m1-hw1-Rice-Amanda.ipynb\" target=\"_parent\"><img src=\"https://colab.research.google.com/assets/colab-badge.svg\" alt=\"Open In Colab\"/></a>"
      ]
    },
    {
      "cell_type": "markdown",
      "source": [
        "**Question 1**\n",
        "\n",
        "How do you assign the value 5 to a variable named x?\n",
        "\n",
        "*Explanation*\n",
        "- Value 5 is an integer\n",
        "- A variable is a name that refers to a value\n",
        "- In Python, we use = to assign a value to a variable\n",
        "\n",
        "*Answer*"
      ],
      "metadata": {
        "id": "SQgrTLjzKf7D"
      }
    },
    {
      "cell_type": "code",
      "execution_count": 1,
      "metadata": {
        "id": "FR5MoPbzKRqc"
      },
      "outputs": [],
      "source": [
        "x = 5"
      ]
    },
    {
      "cell_type": "code",
      "source": [
        "#value 5 assigned to variable named x"
      ],
      "metadata": {
        "id": "HAYyNJ5O4xs6"
      },
      "execution_count": 65,
      "outputs": []
    },
    {
      "cell_type": "markdown",
      "source": [
        "**Question 2**\n",
        "\n",
        "Given 1st = [1, 2, 3, 4, 5], what does 1st[1:4] return?\n",
        "\n",
        "Explanation\n",
        "- Indexing in Python:\n",
        "  - 1 = 0, -5\n",
        "  - 2 = 1, -4\n",
        "  - 3 = 2, -3\n",
        "  - 4 = 3, -2\n",
        "  - 5 = 4, -1\n",
        "\n",
        "*Answer*"
      ],
      "metadata": {
        "id": "N7tiKXGZLBG0"
      }
    },
    {
      "cell_type": "code",
      "source": [
        "list_variable = [1, 2, 3, 4, 5]\n",
        "list_variable[1:4]"
      ],
      "metadata": {
        "colab": {
          "base_uri": "https://localhost:8080/"
        },
        "id": "yZ0i6Ho9LRVx",
        "outputId": "fa0ae69d-50fd-446a-a43c-e164fd923bda"
      },
      "execution_count": 3,
      "outputs": [
        {
          "output_type": "execute_result",
          "data": {
            "text/plain": [
              "[2, 3, 4]"
            ]
          },
          "metadata": {},
          "execution_count": 3
        }
      ]
    },
    {
      "cell_type": "code",
      "source": [
        "#Indexing in Python"
      ],
      "metadata": {
        "id": "kEHn2-3345zH"
      },
      "execution_count": 66,
      "outputs": []
    },
    {
      "cell_type": "markdown",
      "source": [
        "**Question 3**\n",
        "\n",
        "How do you create a dictionary with keys \"apple\", \"banana\", and \"cherry\", each with the corresponding values 5, 3, and 7?\n",
        "\n",
        "How do you access the value associated with the key \"banana\" in the dictionary created above?\n",
        "\n",
        "*Explanation*\n",
        "- The dictionary allows us to map one set of variables to another (either one-to-one or many-to-one)\n",
        "- If you need to create associations between objects, use a dictionary\n",
        "- Can obtain keys, values, or key-value pairs from dictionaries\n",
        "\n",
        "*Answer*"
      ],
      "metadata": {
        "id": "8tGcn191MQmV"
      }
    },
    {
      "cell_type": "code",
      "source": [
        "fruit_list = {\"apple\": 5, \"banana\": 3, \"cherry\": 7}\n",
        "fruit_list"
      ],
      "metadata": {
        "colab": {
          "base_uri": "https://localhost:8080/"
        },
        "id": "oLT8wdauNE8T",
        "outputId": "bd806c8d-085c-438e-d830-7fa404d02e4a"
      },
      "execution_count": 7,
      "outputs": [
        {
          "output_type": "execute_result",
          "data": {
            "text/plain": [
              "{'apple': 5, 'banana': 3, 'cherry': 7}"
            ]
          },
          "metadata": {},
          "execution_count": 7
        }
      ]
    },
    {
      "cell_type": "code",
      "source": [
        "fruit_list.keys()"
      ],
      "metadata": {
        "colab": {
          "base_uri": "https://localhost:8080/"
        },
        "id": "bWxHhwZdNa4A",
        "outputId": "f84745bc-e5a7-48a2-d96f-f9904b9637f7"
      },
      "execution_count": 8,
      "outputs": [
        {
          "output_type": "execute_result",
          "data": {
            "text/plain": [
              "dict_keys(['apple', 'banana', 'cherry'])"
            ]
          },
          "metadata": {},
          "execution_count": 8
        }
      ]
    },
    {
      "cell_type": "code",
      "source": [
        "fruit_list.values()"
      ],
      "metadata": {
        "colab": {
          "base_uri": "https://localhost:8080/"
        },
        "id": "CYmM9qd3PETK",
        "outputId": "f45589ef-8420-4542-80a2-e3abbc6ae46a"
      },
      "execution_count": 9,
      "outputs": [
        {
          "output_type": "execute_result",
          "data": {
            "text/plain": [
              "dict_values([5, 3, 7])"
            ]
          },
          "metadata": {},
          "execution_count": 9
        }
      ]
    },
    {
      "cell_type": "code",
      "source": [
        "fruit_list.items()"
      ],
      "metadata": {
        "colab": {
          "base_uri": "https://localhost:8080/"
        },
        "id": "HIVa3UAPPQP6",
        "outputId": "c3d820fd-0a6d-46e2-a141-c5d520b381c3"
      },
      "execution_count": 10,
      "outputs": [
        {
          "output_type": "execute_result",
          "data": {
            "text/plain": [
              "dict_items([('apple', 5), ('banana', 3), ('cherry', 7)])"
            ]
          },
          "metadata": {},
          "execution_count": 10
        }
      ]
    },
    {
      "cell_type": "code",
      "source": [
        "#Dictionary, mapping one set of variables to another"
      ],
      "metadata": {
        "id": "JrmMFzWu5Dlt"
      },
      "execution_count": 67,
      "outputs": []
    },
    {
      "cell_type": "markdown",
      "source": [
        "**Question 4**\n",
        "\n",
        "For the expressions below, what is the value of the expression? Explain thoroughly.\n",
        "\n",
        "**True and False**\n",
        "- *Description:* Are x and y both true?\n",
        "- *Answer:* False; they are not both \"true\". See below.\n",
        "\n",
        "**True or False**\n",
        "- *Description:* Is at least one of x and y true?\n",
        "- *Answer:* True; at least one is \"true\". See below.\n",
        "\n",
        "**not (100 == '100' and 25 < 36)**\n",
        "- *Description:* Is x false?\n",
        "- *Answer:* True; 100 is not equal to '100', it is true that 25 is less than 36. See below.\n",
        "\n",
        "*Answer*"
      ],
      "metadata": {
        "id": "iI38hcOFP6Wl"
      }
    },
    {
      "cell_type": "code",
      "source": [
        "boolean_condition1 = True and False\n",
        "print(boolean_condition1)"
      ],
      "metadata": {
        "colab": {
          "base_uri": "https://localhost:8080/"
        },
        "id": "l1zXBCmLQjaB",
        "outputId": "46822bd2-4e0c-4194-d521-fd194e4161b9"
      },
      "execution_count": 14,
      "outputs": [
        {
          "output_type": "stream",
          "name": "stdout",
          "text": [
            "False\n"
          ]
        }
      ]
    },
    {
      "cell_type": "code",
      "source": [
        "boolean_condition2 = True or False\n",
        "print(boolean_condition2)"
      ],
      "metadata": {
        "colab": {
          "base_uri": "https://localhost:8080/"
        },
        "id": "_jl2ZoaJQmv8",
        "outputId": "03f6c0a1-3d63-44ee-a4e0-a698276446ee"
      },
      "execution_count": 16,
      "outputs": [
        {
          "output_type": "stream",
          "name": "stdout",
          "text": [
            "True\n"
          ]
        }
      ]
    },
    {
      "cell_type": "code",
      "source": [
        "boolean_condition3 = not (100 == '100' and 25 < 36)\n",
        "print(boolean_condition3)"
      ],
      "metadata": {
        "colab": {
          "base_uri": "https://localhost:8080/"
        },
        "id": "sWGCFgEpQpP4",
        "outputId": "2d1ef08a-4fba-4478-9d3f-93456d6307d1"
      },
      "execution_count": 17,
      "outputs": [
        {
          "output_type": "stream",
          "name": "stdout",
          "text": [
            "True\n"
          ]
        }
      ]
    },
    {
      "cell_type": "code",
      "source": [
        "#booleans and conditions"
      ],
      "metadata": {
        "id": "tKCVE2nR5NZ_"
      },
      "execution_count": 68,
      "outputs": []
    },
    {
      "cell_type": "markdown",
      "source": [
        "**Question 5**\n",
        "\n",
        "Create a new if-elif-else chain that prints \"well done\" if a score is over 90, \"good\" if between 40 and 90, and \"bad luck\" otherwise.\n",
        "\n",
        "*Explanation*\n",
        "- If score = 95, then print \"well done\" (see below)\n",
        "- If score = 75, then print \"good\" (see below)\n",
        "- If score = 25, then print \"bad luck\" (see below)\n",
        "\n",
        "*Answer*"
      ],
      "metadata": {
        "id": "OFQG4ljASI7E"
      }
    },
    {
      "cell_type": "code",
      "source": [
        "score = 95\n",
        "\n",
        "if score > 90:\n",
        "  print(\"well done\")\n",
        "elif score > 40 and score < 90:\n",
        "  print(\"good\")\n",
        "else:\n",
        "  print(\"bad luck\")"
      ],
      "metadata": {
        "colab": {
          "base_uri": "https://localhost:8080/"
        },
        "id": "7LdyOVsqUdmE",
        "outputId": "6b37bc11-c088-4d68-d917-03eea6bdbc03"
      },
      "execution_count": 22,
      "outputs": [
        {
          "output_type": "stream",
          "name": "stdout",
          "text": [
            "well done\n"
          ]
        }
      ]
    },
    {
      "cell_type": "code",
      "source": [
        "score = 75\n",
        "\n",
        "if score > 90:\n",
        "  print(\"well done\")\n",
        "elif score > 40 and score < 90:\n",
        "  print(\"good\")\n",
        "else:\n",
        "  print(\"bad luck\")"
      ],
      "metadata": {
        "colab": {
          "base_uri": "https://localhost:8080/"
        },
        "id": "9FpWVl7lWR0a",
        "outputId": "556198c7-faad-41d5-e71e-9c6ed629f8fb"
      },
      "execution_count": 20,
      "outputs": [
        {
          "output_type": "stream",
          "name": "stdout",
          "text": [
            "good\n"
          ]
        }
      ]
    },
    {
      "cell_type": "code",
      "source": [
        "score = 25\n",
        "\n",
        "if score > 90:\n",
        "  print(\"well done\")\n",
        "elif score > 40 and score < 90:\n",
        "  print(\"good\")\n",
        "else:\n",
        "  print(\"bad luck\")"
      ],
      "metadata": {
        "colab": {
          "base_uri": "https://localhost:8080/"
        },
        "id": "uAYwpTRcWXMl",
        "outputId": "b1be2c2e-fce3-4216-80e1-b373dcc1e8af"
      },
      "execution_count": 21,
      "outputs": [
        {
          "output_type": "stream",
          "name": "stdout",
          "text": [
            "bad luck\n"
          ]
        }
      ]
    },
    {
      "cell_type": "code",
      "source": [
        "#if-else chain using test scores"
      ],
      "metadata": {
        "id": "ygC0m03T5Skh"
      },
      "execution_count": 69,
      "outputs": []
    },
    {
      "cell_type": "markdown",
      "source": [
        "**Question 6**\n",
        "\n",
        "Write a loop that prints out \"coding for data analysts\" so that each word is printed in a successive iteration.\n",
        "\n",
        "*Explanation*\n",
        "- A loop is a way of executing a similar piece of code over and over in a similar way\n",
        "  - The most useful loop is for loops\n",
        "- As long as an object is iterable, then it can be used in this way in a for loop\n",
        "\n",
        "*Answer*"
      ],
      "metadata": {
        "id": "EeIqc7q6Wpb-"
      }
    },
    {
      "cell_type": "code",
      "source": [
        "loop_phrase = [\"coding for data analysts\"]\n",
        "for words in loop_phrase:\n",
        "  print(words)"
      ],
      "metadata": {
        "colab": {
          "base_uri": "https://localhost:8080/"
        },
        "id": "uCh5sngAW4rT",
        "outputId": "1c040849-cae0-4d27-95a1-6cb32e9dd1ea"
      },
      "execution_count": 23,
      "outputs": [
        {
          "output_type": "stream",
          "name": "stdout",
          "text": [
            "coding for data analysts\n"
          ]
        }
      ]
    },
    {
      "cell_type": "code",
      "source": [
        "#coding for data analysts loop"
      ],
      "metadata": {
        "id": "ozVTOzXh5aua"
      },
      "execution_count": 70,
      "outputs": []
    },
    {
      "cell_type": "markdown",
      "source": [
        "**Question 7**\n",
        "\n",
        "How do you import the math module in a Python script?\n",
        "After importing math, how do you use its sqrt function to find the square root of 16?\n",
        "\n",
        "*Explanation*\n",
        "- Python is a general-purpose programming language and is not specialized for numerical or statistical computation\n",
        "- We refer to code of other modules/packages/libraries by using the Python import statement\n",
        "  - This makes the code and variables in the imported module available to our programming codes\n",
        "\n",
        "*Answer*"
      ],
      "metadata": {
        "id": "9b6fjcCZY-Q8"
      }
    },
    {
      "cell_type": "code",
      "source": [
        "import math"
      ],
      "metadata": {
        "id": "GKlegRtka1nA"
      },
      "execution_count": 24,
      "outputs": []
    },
    {
      "cell_type": "code",
      "source": [
        "math.sqrt(16)"
      ],
      "metadata": {
        "colab": {
          "base_uri": "https://localhost:8080/"
        },
        "id": "mFupaGRjbp5T",
        "outputId": "580b8728-9866-4fb5-e56f-398bcecfeea0"
      },
      "execution_count": 26,
      "outputs": [
        {
          "output_type": "execute_result",
          "data": {
            "text/plain": [
              "4.0"
            ]
          },
          "metadata": {},
          "execution_count": 26
        }
      ]
    },
    {
      "cell_type": "code",
      "source": [
        "#the square root of 16 is 4"
      ],
      "metadata": {
        "id": "GRokjYDB5gQP"
      },
      "execution_count": 71,
      "outputs": []
    },
    {
      "cell_type": "markdown",
      "source": [
        "**Question 8**\n",
        "\n",
        "Do the following tasks on this Classwork 1 Discussion Board:\n",
        "  1. Basic Syntax: Write a comment with your name, a heading, an unordered list, and ordered list, a link, and an image.\n",
        "  2. Advanced Syntax: Write a comment that includes a Python code block, a blockquote, and an emoji.\n",
        "\n",
        "*Explanation*\n",
        "- Markdown is a lightweight markup language with plain-text formatting syntax. Its main goal is to be readable and easy to write, even when viewed as plain text. Markdown is widely used for creating formatted text on the web and in various applications such as Jupyter Notebooks in Google Colab.\n",
        "\n",
        "*Answer*"
      ],
      "metadata": {
        "id": "9KwMUDBqb-Ba"
      }
    },
    {
      "cell_type": "markdown",
      "source": [
        "#Data Analytics"
      ],
      "metadata": {
        "id": "Ap4kHTGRmaZs"
      }
    },
    {
      "cell_type": "markdown",
      "source": [
        "**Name:** Amanda Rice"
      ],
      "metadata": {
        "id": "D0KRlhyWmpaN"
      }
    },
    {
      "cell_type": "markdown",
      "source": [
        "**Unordered List:**\n",
        "- apple\n",
        "  - honeycrisp apple\n",
        "  - cortland apple\n",
        "- banana\n",
        "- cherry"
      ],
      "metadata": {
        "id": "VNKZSTaIjpKM"
      }
    },
    {
      "cell_type": "markdown",
      "source": [
        "**Ordered List:**\n",
        "1. apple\n",
        "2. banana\n",
        "3. cherry"
      ],
      "metadata": {
        "id": "Y3Zxdob_jsrX"
      }
    },
    {
      "cell_type": "markdown",
      "source": [
        "[DANL 210](https://www.google.com/url?sa=i&url=https%3A%2F%2Fwww.geneseo.edu%2Fcomm_mark%2Fgraphic-identity&psig=AOvVaw3hJlPYLlAKVewxZnekaVN6&ust=1707765773106000&source=images&cd=vfe&opi=89978449&ved=0CBMQjRxqFwoTCJiA2reBpIQDFQAAAAAdAAAAABAD)\n",
        "![Geneseo Logo](https://www.geneseo.edu/sites/default/files/sites/college_comm/geneseo-athletics-lgo.jpg)"
      ],
      "metadata": {
        "id": "KMI4vZjbnng9"
      }
    },
    {
      "cell_type": "markdown",
      "source": [
        "```\n",
        "\"Python\"\n",
        "```"
      ],
      "metadata": {
        "id": "vG89xmxHoMr6"
      }
    },
    {
      "cell_type": "markdown",
      "source": [
        "```python\n",
        "# Python code block\n",
        "import numpy as np\n",
        "```"
      ],
      "metadata": {
        "id": "SntGDi35oeDK"
      }
    },
    {
      "cell_type": "markdown",
      "source": [
        "> The future belongs to those who believe in the beauty of their dreams. Eleanor Roosevelt"
      ],
      "metadata": {
        "id": "mDNBOFR8mywB"
      }
    },
    {
      "cell_type": "markdown",
      "source": [
        "🐕"
      ],
      "metadata": {
        "id": "2lv0UgcAm9zQ"
      }
    },
    {
      "cell_type": "code",
      "source": [
        "#using text in data analytics"
      ],
      "metadata": {
        "id": "qqAgl3jA5lXp"
      },
      "execution_count": 72,
      "outputs": []
    }
  ]
}