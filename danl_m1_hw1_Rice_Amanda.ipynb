{
  "nbformat": 4,
  "nbformat_minor": 0,
  "metadata": {
    "colab": {
      "provenance": [],
      "authorship_tag": "ABX9TyP4Qnbb2zBF/1aNgo4Cfm6F",
      "include_colab_link": true
    },
    "kernelspec": {
      "name": "python3",
      "display_name": "Python 3"
    },
    "language_info": {
      "name": "python"
    }
  },
  "cells": [
    {
      "cell_type": "markdown",
      "metadata": {
        "id": "view-in-github",
        "colab_type": "text"
      },
      "source": [
        "<a href=\"https://colab.research.google.com/github/amandarice97/data-analytics/blob/main/danl_m1_hw1_Rice_Amanda.ipynb\" target=\"_parent\"><img src=\"https://colab.research.google.com/assets/colab-badge.svg\" alt=\"Open In Colab\"/></a>"
      ]
    },
    {
      "cell_type": "markdown",
      "source": [
        "**Question 1**\n",
        "\n",
        "How do you assign the value 5 to a variable named x?\n",
        "\n",
        "*Answer*"
      ],
      "metadata": {
        "id": "SQgrTLjzKf7D"
      }
    },
    {
      "cell_type": "code",
      "execution_count": 1,
      "metadata": {
        "id": "FR5MoPbzKRqc"
      },
      "outputs": [],
      "source": [
        "x = 5"
      ]
    },
    {
      "cell_type": "markdown",
      "source": [
        "**Question 2**\n",
        "\n",
        "Given 1st = [1, 2, 3, 4, 5], what does 1st[1:4] return?\n",
        "\n",
        "*Answer*"
      ],
      "metadata": {
        "id": "N7tiKXGZLBG0"
      }
    },
    {
      "cell_type": "code",
      "source": [
        "list_variable = [1, 2, 3, 4, 5]\n",
        "list_variable[1:4]"
      ],
      "metadata": {
        "colab": {
          "base_uri": "https://localhost:8080/"
        },
        "id": "yZ0i6Ho9LRVx",
        "outputId": "fa0ae69d-50fd-446a-a43c-e164fd923bda"
      },
      "execution_count": 3,
      "outputs": [
        {
          "output_type": "execute_result",
          "data": {
            "text/plain": [
              "[2, 3, 4]"
            ]
          },
          "metadata": {},
          "execution_count": 3
        }
      ]
    },
    {
      "cell_type": "markdown",
      "source": [
        "**Question 3**\n",
        "\n",
        "How do you create a dictionary with keys \"apple\", \"banana\", and \"cherry\", each with the corresponding values 5, 3, and 7?\n",
        "\n",
        "How do you access the value associated with the key \"banana\" in the dictionary created above?\n",
        "\n",
        "*Answer*"
      ],
      "metadata": {
        "id": "8tGcn191MQmV"
      }
    },
    {
      "cell_type": "code",
      "source": [
        "fruit_list = {\"apple\": 5, \"banana\": 3, \"cherry\": 7}\n",
        "fruit_list"
      ],
      "metadata": {
        "colab": {
          "base_uri": "https://localhost:8080/"
        },
        "id": "oLT8wdauNE8T",
        "outputId": "bd806c8d-085c-438e-d830-7fa404d02e4a"
      },
      "execution_count": 7,
      "outputs": [
        {
          "output_type": "execute_result",
          "data": {
            "text/plain": [
              "{'apple': 5, 'banana': 3, 'cherry': 7}"
            ]
          },
          "metadata": {},
          "execution_count": 7
        }
      ]
    },
    {
      "cell_type": "code",
      "source": [
        "fruit_list.keys()"
      ],
      "metadata": {
        "colab": {
          "base_uri": "https://localhost:8080/"
        },
        "id": "bWxHhwZdNa4A",
        "outputId": "f84745bc-e5a7-48a2-d96f-f9904b9637f7"
      },
      "execution_count": 8,
      "outputs": [
        {
          "output_type": "execute_result",
          "data": {
            "text/plain": [
              "dict_keys(['apple', 'banana', 'cherry'])"
            ]
          },
          "metadata": {},
          "execution_count": 8
        }
      ]
    },
    {
      "cell_type": "code",
      "source": [
        "fruit_list.values()"
      ],
      "metadata": {
        "colab": {
          "base_uri": "https://localhost:8080/"
        },
        "id": "CYmM9qd3PETK",
        "outputId": "f45589ef-8420-4542-80a2-e3abbc6ae46a"
      },
      "execution_count": 9,
      "outputs": [
        {
          "output_type": "execute_result",
          "data": {
            "text/plain": [
              "dict_values([5, 3, 7])"
            ]
          },
          "metadata": {},
          "execution_count": 9
        }
      ]
    },
    {
      "cell_type": "code",
      "source": [
        "fruit_list.items()"
      ],
      "metadata": {
        "colab": {
          "base_uri": "https://localhost:8080/"
        },
        "id": "HIVa3UAPPQP6",
        "outputId": "c3d820fd-0a6d-46e2-a141-c5d520b381c3"
      },
      "execution_count": 10,
      "outputs": [
        {
          "output_type": "execute_result",
          "data": {
            "text/plain": [
              "dict_items([('apple', 5), ('banana', 3), ('cherry', 7)])"
            ]
          },
          "metadata": {},
          "execution_count": 10
        }
      ]
    }
  ]
}